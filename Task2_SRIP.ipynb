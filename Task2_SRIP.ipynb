{
  "nbformat": 4,
  "nbformat_minor": 0,
  "metadata": {
    "colab": {
      "name": "Task2_SRIP.ipynb",
      "provenance": [],
      "collapsed_sections": [],
      "authorship_tag": "ABX9TyMuyBYDYZC5NQH6jbJUanEr",
      "include_colab_link": true
    },
    "kernelspec": {
      "name": "python3",
      "display_name": "Python 3"
    },
    "language_info": {
      "name": "python"
    }
  },
  "cells": [
    {
      "cell_type": "markdown",
      "metadata": {
        "id": "view-in-github",
        "colab_type": "text"
      },
      "source": [
        "<a href=\"https://colab.research.google.com/github/i-was-here/summer-intern-tasks-iitgn/blob/main/Task2_SRIP.ipynb\" target=\"_parent\"><img src=\"https://colab.research.google.com/assets/colab-badge.svg\" alt=\"Open In Colab\"/></a>"
      ]
    },
    {
      "cell_type": "markdown",
      "source": [
        "Libraries :-"
      ],
      "metadata": {
        "id": "okYNnksRnBiI"
      }
    },
    {
      "cell_type": "code",
      "execution_count": null,
      "metadata": {
        "id": "h4_bNj1yutLE"
      },
      "outputs": [],
      "source": [
        "from jax import random\n",
        "import numpy as np\n",
        "import math"
      ]
    },
    {
      "cell_type": "markdown",
      "source": [
        "Constants :-"
      ],
      "metadata": {
        "id": "cEXOVs3KnDX2"
      }
    },
    {
      "cell_type": "code",
      "source": [
        "no_dim = 10"
      ],
      "metadata": {
        "id": "vnjVMR2HlSKC"
      },
      "execution_count": null,
      "outputs": []
    },
    {
      "cell_type": "markdown",
      "source": [
        "Uniform Random no. Generation :-"
      ],
      "metadata": {
        "id": "2YAjJ36qmzuQ"
      }
    },
    {
      "cell_type": "code",
      "source": [
        "key = random.PRNGKey(0)"
      ],
      "metadata": {
        "id": "F_eqG4JdmADC"
      },
      "execution_count": null,
      "outputs": []
    },
    {
      "cell_type": "code",
      "source": [
        "key, subkey = random.split(key)\n",
        "print(random.uniform(key)*100)"
      ],
      "metadata": {
        "colab": {
          "base_uri": "https://localhost:8080/"
        },
        "id": "qR73ycIMldtC",
        "outputId": "3c77e927-6190-4f41-f5b0-e3ce87dec34d"
      },
      "execution_count": null,
      "outputs": [
        {
          "output_type": "stream",
          "name": "stdout",
          "text": [
            "92.95771\n"
          ]
        }
      ]
    },
    {
      "cell_type": "markdown",
      "source": [
        "Random Creation of L, mu :-"
      ],
      "metadata": {
        "id": "ZV_UXXKcnG4U"
      }
    },
    {
      "cell_type": "code",
      "source": [
        "# formation of mu vector\n",
        "\n",
        "mu = []\n",
        "\n",
        "for i in range(no_dim):\n",
        "  key, subkey = random.split(key)\n",
        "  mu.append(random.uniform(key)*100)\n",
        "\n",
        "# mean of the MVN RV is assumed to have all values of vector between 0 and 100(not included)\n",
        "\n",
        "mu = np.array(mu)"
      ],
      "metadata": {
        "id": "o1yWGotkm6gZ"
      },
      "execution_count": null,
      "outputs": []
    },
    {
      "cell_type": "code",
      "source": [
        "# formation of L matrix\n",
        "\n",
        "# it is used to generate covarience matrix , i.e. L.transpose(L)    ---   Matrix multiplication\n",
        "\n",
        "L = []\n",
        "\n",
        "for i in range(no_dim):\n",
        "  one_row = []\n",
        "  for j in range(no_dim):\n",
        "    key, subkey = random.split(key)\n",
        "    one_row.append(random.uniform(key)*2)\n",
        "  L.append(one_row)\n",
        "\n",
        "# The values in L matrix are assumed to lie between 0 and 2(not included)\n",
        "\n",
        "L = np.array(L)"
      ],
      "metadata": {
        "id": "HNp5RuMiqonu"
      },
      "execution_count": null,
      "outputs": []
    },
    {
      "cell_type": "code",
      "source": [
        "# The Covarience Matrix :-\n",
        "sgm = np.dot(L, L.T)"
      ],
      "metadata": {
        "id": "pHsyRlg5sPQG"
      },
      "execution_count": null,
      "outputs": []
    },
    {
      "cell_type": "markdown",
      "source": [
        "Sampling out of the MVN RV parametrized by the Mean(mu) vector and Covarience(sgm) matrix defined above"
      ],
      "metadata": {
        "id": "mEQeE25ysAap"
      }
    },
    {
      "cell_type": "code",
      "source": [
        "no_samples = 200\n",
        "all_samples = []\n",
        "\n",
        "for no in range(no_samples):\n",
        "  # Formation of X vector(which has all values sampled from i.i.d Std Normal RVs)\n",
        "\n",
        "  X = []\n",
        "\n",
        "  # we make each element in X using Central Limit Theorem, with 100 samples of uniform RV for each Std. Normal RV\n",
        "  # with each sampled no from uniform distribution with mean = 5 ( =(10-0)/2 ), var = ((10-0)^2)/12\n",
        "\n",
        "  for j in range(no_dim):\n",
        "\n",
        "    n=400   # 100 samples of unif RV\n",
        "\n",
        "    mean_unif = (10-0)/2\n",
        "    var_unif = ((10-0)^2)/12\n",
        "\n",
        "    Sn = 0\n",
        "    for i in range(n):\n",
        "      key, subkey = random.split(key)\n",
        "      Sn += float(random.uniform(key))*10\n",
        "\n",
        "    Zn = (Sn - n*mean_unif)/math.sqrt(n*var_unif)\n",
        "\n",
        "    X.append(Zn)\n",
        "\n",
        "  X = list(map(float, X))\n",
        "  \n",
        "  # Vector sampled out of the defined MVN RV\n",
        "  # as : sample = cov*X + mu, where X is vector made up of standard normal random variable\n",
        "  V = np.matmul(sgm, X) + mu\n",
        "\n",
        "  all_samples.append(V)"
      ],
      "metadata": {
        "id": "KxROPPTMrruQ"
      },
      "execution_count": null,
      "outputs": []
    },
    {
      "cell_type": "code",
      "source": [
        "print(all_samples[0])"
      ],
      "metadata": {
        "colab": {
          "base_uri": "https://localhost:8080/"
        },
        "id": "C2wGdOPe1Hya",
        "outputId": "b29fc580-0062-4f9e-c03f-15132102d73e"
      },
      "execution_count": null,
      "outputs": [
        {
          "output_type": "stream",
          "name": "stdout",
          "text": [
            "[ 49.4165125   14.41316624  37.82743187  48.44041994 -23.02620318\n",
            " -48.60720279 -12.72636738  -0.43475255  14.55280691   4.40394167]\n"
          ]
        }
      ]
    },
    {
      "cell_type": "markdown",
      "source": [
        "Verification of correctness of sampling method by comparing mean and varience of the samples :-"
      ],
      "metadata": {
        "id": "g88sV74j5RgG"
      }
    },
    {
      "cell_type": "code",
      "source": [
        "sum_vector = all_samples[0]\n",
        "\n",
        "for i in range(no_samples-1):\n",
        "  sum_vector = sum_vector + all_samples[i+1]\n",
        "\n",
        "mean_vector = sum_vector/no_samples"
      ],
      "metadata": {
        "id": "yEbgow3y5Txa"
      },
      "execution_count": null,
      "outputs": []
    },
    {
      "cell_type": "code",
      "source": [
        "print(mean_vector)"
      ],
      "metadata": {
        "colab": {
          "base_uri": "https://localhost:8080/"
        },
        "id": "g3RxyT_r5sMr",
        "outputId": "7e506b0b-5bdd-4da8-90dc-9199c39d89ed"
      },
      "execution_count": null,
      "outputs": [
        {
          "output_type": "stream",
          "name": "stdout",
          "text": [
            "[96.09218605 45.73111994 96.06543323 73.68591984 20.43968462  8.10381258\n",
            " 53.38005784 37.5744201  55.29298314 53.53642691]\n"
          ]
        }
      ]
    },
    {
      "cell_type": "code",
      "source": [
        "print(mu)"
      ],
      "metadata": {
        "colab": {
          "base_uri": "https://localhost:8080/"
        },
        "id": "YWS2NoSR1XZ-",
        "outputId": "fc71d148-41c3-4271-868b-26664400bb2f"
      },
      "execution_count": null,
      "outputs": [
        {
          "output_type": "stream",
          "name": "stdout",
          "text": [
            "[95.25286   43.86854   95.38083   71.379364  17.850685   5.9491515\n",
            " 53.13907   35.173225  52.87591   49.52054  ]\n"
          ]
        }
      ]
    },
    {
      "cell_type": "markdown",
      "source": [
        "----"
      ],
      "metadata": {
        "id": "6A9uJkEY6LNp"
      }
    },
    {
      "cell_type": "code",
      "source": [
        "sgm_estimate_sum = np.matmul((all_samples[0]-mean_vector).reshape(no_dim, 1), (all_samples[0]-mean_vector).reshape(1, no_dim))\n",
        "\n",
        "for each_sample in range(no_samples-1):\n",
        "  sgm_estimate_sum = sgm_estimate_sum + np.matmul((all_samples[i+1]-mean_vector).reshape(no_dim, 1), (all_samples[i+1]-mean_vector).reshape(1, no_dim))\n",
        "\n",
        "sgm_estimate = sgm_estimate_sum/(no_samples-1)"
      ],
      "metadata": {
        "id": "B180oH8k6b-J"
      },
      "execution_count": null,
      "outputs": []
    },
    {
      "cell_type": "code",
      "source": [
        "print(sgm_estimate)"
      ],
      "metadata": {
        "colab": {
          "base_uri": "https://localhost:8080/"
        },
        "id": "VWL-0ar8AeOq",
        "outputId": "1cdd0a10-b006-4dbb-93a6-d78f0175f282"
      },
      "execution_count": null,
      "outputs": [
        {
          "output_type": "stream",
          "name": "stdout",
          "text": [
            "[[ 182.17426977  195.28473208  -70.52013215   28.28095267  219.32779325\n",
            "   133.70432757  225.26458081  294.7840943   233.17967047 -182.73459139]\n",
            " [ 195.28473208  211.21166228  -83.2310378    28.51506253  236.38583842\n",
            "   141.07964362  240.63649687  319.75312757  251.86249062 -205.48706908]\n",
            " [ -70.52013215  -83.2310378    58.42885081   -3.60445083  -90.09537177\n",
            "   -42.59681927  -83.77751277 -129.41804576  -98.01735558  109.88202219]\n",
            " [  28.28095267   28.51506253   -3.60445083    6.12251555   32.8237557\n",
            "    22.91723941   35.77777677   42.15209555   34.3702988   -19.13421888]\n",
            " [ 219.32779325  236.38583842  -90.09537177   32.8237557   264.92486469\n",
            "   159.44454386  270.63514872  357.45715826  282.02879058 -226.53237242]\n",
            " [ 133.70432757  141.07964362  -42.59681927   22.91723941  159.44454386\n",
            "   100.82605198  166.33713143  211.84869653  168.85766343 -122.59668432]\n",
            " [ 225.26458081  240.63649687  -83.77751277   35.77777677  270.63514872\n",
            "   166.33713143  278.92357342  362.82735917  287.48198157 -221.65318011]\n",
            " [ 294.7840943   319.75312757 -129.41804576   42.15209555  357.45715826\n",
            "   211.84869653  362.82735917  484.52886883  381.13014346 -314.93783486]\n",
            " [ 233.17967047  251.86249062  -98.01735558   34.3702988   282.02879058\n",
            "   168.85766343  287.48198157  381.13014346  300.39646617 -243.64579667]\n",
            " [-182.73459139 -205.48706908  109.88202219  -19.13421888 -226.53237242\n",
            "  -122.59668432 -221.65318011 -314.93783486 -243.64579667  232.51970432]]\n"
          ]
        }
      ]
    },
    {
      "cell_type": "code",
      "source": [
        "print(sgm)"
      ],
      "metadata": {
        "colab": {
          "base_uri": "https://localhost:8080/"
        },
        "id": "zFTCeuj_2bt9",
        "outputId": "cf8e4f8f-b28b-42da-e633-e647ef861ef7"
      },
      "execution_count": null,
      "outputs": [
        {
          "output_type": "stream",
          "name": "stdout",
          "text": [
            "[[10.590441   9.122463   7.4183474  7.109909   9.188206  10.725945\n",
            "  11.784555   9.48661   10.114366  10.647368 ]\n",
            " [ 9.122463  17.329994  10.539037  12.14269   15.928555  13.3276205\n",
            "  13.614726  13.86875   14.318736  12.599902 ]\n",
            " [ 7.4183474 10.539037  12.33059    7.748512  11.55338   11.265645\n",
            "  11.964772   9.408211  10.084666  11.580222 ]\n",
            " [ 7.109909  12.14269    7.748512  10.8144    11.947337  11.4056225\n",
            "   9.820486   9.986384  10.226623  12.370547 ]\n",
            " [ 9.188206  15.928555  11.55338   11.947337  17.8337    14.791839\n",
            "  13.874127  14.504998  14.843503  14.527104 ]\n",
            " [10.725945  13.3276205 11.265645  11.4056225 14.791839  15.373698\n",
            "  14.208407  12.570245  13.242277  15.362626 ]\n",
            " [11.784555  13.614726  11.964772   9.820486  13.874127  14.208407\n",
            "  16.41855   12.641695  12.838173  12.585891 ]\n",
            " [ 9.48661   13.86875    9.408211   9.986384  14.504998  12.570245\n",
            "  12.641695  13.741754  13.564976  12.403532 ]\n",
            " [10.114366  14.318736  10.084666  10.226623  14.843503  13.242277\n",
            "  12.838173  13.564976  14.435718  13.239451 ]\n",
            " [10.647368  12.599902  11.580222  12.370547  14.527104  15.362626\n",
            "  12.585891  12.403532  13.239451  20.232931 ]]\n"
          ]
        }
      ]
    }
  ]
}