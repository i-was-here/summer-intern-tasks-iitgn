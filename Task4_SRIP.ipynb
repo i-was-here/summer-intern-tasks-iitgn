{
  "nbformat": 4,
  "nbformat_minor": 0,
  "metadata": {
    "colab": {
      "name": "Task4_SRIP.ipynb",
      "provenance": [],
      "collapsed_sections": [],
      "authorship_tag": "ABX9TyMYrnWxnbOqzDKP/uNkF7lx",
      "include_colab_link": true
    },
    "kernelspec": {
      "name": "python3",
      "display_name": "Python 3"
    },
    "language_info": {
      "name": "python"
    }
  },
  "cells": [
    {
      "cell_type": "markdown",
      "metadata": {
        "id": "view-in-github",
        "colab_type": "text"
      },
      "source": [
        "<a href=\"https://colab.research.google.com/github/i-was-here/summer-intern-tasks-iitgn/blob/main/Task4_SRIP.ipynb\" target=\"_parent\"><img src=\"https://colab.research.google.com/assets/colab-badge.svg\" alt=\"Open In Colab\"/></a>"
      ]
    },
    {
      "cell_type": "markdown",
      "source": [
        "Libraries :-"
      ],
      "metadata": {
        "id": "TefIHpp4n5cB"
      }
    },
    {
      "cell_type": "code",
      "execution_count": 2,
      "metadata": {
        "id": "R8b-6UXBLTi7"
      },
      "outputs": [],
      "source": [
        "from jax import random\n",
        "import matplotlib.pyplot as plt"
      ]
    },
    {
      "cell_type": "code",
      "source": [
        "key = random.PRNGKey(0)"
      ],
      "metadata": {
        "colab": {
          "base_uri": "https://localhost:8080/"
        },
        "id": "_EWRriTdLmv8",
        "outputId": "e850b619-2f6f-4d27-abe5-b25d8cda0d13"
      },
      "execution_count": 3,
      "outputs": [
        {
          "output_type": "stream",
          "name": "stderr",
          "text": [
            "WARNING:absl:No GPU/TPU found, falling back to CPU. (Set TF_CPP_MIN_LOG_LEVEL=0 and rerun for more info.)\n"
          ]
        }
      ]
    },
    {
      "cell_type": "markdown",
      "source": [
        "Creation of 1-D linear Dataset (with added noise)"
      ],
      "metadata": {
        "id": "F1ZawL8JnoG7"
      }
    },
    {
      "cell_type": "code",
      "source": [
        "X = []\n",
        "Y = []\n",
        "real_op = []\n",
        "no_datapoints =1000\n",
        "\n",
        "def line_eq(x):\n",
        "  return 2*x-1\n",
        "\n",
        "for i in range(no_datapoints):\n",
        "  key, subkey = random.split(key)\n",
        "  X.append(random.uniform(key)*1000 - 500)\n",
        "  real_op.append(line_eq(X[i]))\n",
        "  Y.append(line_eq(X[i]) + random.normal(key)*100)\n",
        "  # points on X axis lie b/w -500 and 500"
      ],
      "metadata": {
        "id": "oezOB1MBLYrV"
      },
      "execution_count": 4,
      "outputs": []
    },
    {
      "cell_type": "code",
      "source": [
        "# dataset plotted on graph\n",
        "\n",
        "plt.figure()\n",
        "plt.scatter(X[0:50], Y[0:50])"
      ],
      "metadata": {
        "colab": {
          "base_uri": "https://localhost:8080/",
          "height": 283
        },
        "id": "QQ-k0qm6Mppa",
        "outputId": "04238e64-e879-4f9f-c1f5-3b946e3281fe"
      },
      "execution_count": 6,
      "outputs": [
        {
          "output_type": "execute_result",
          "data": {
            "text/plain": [
              "<matplotlib.collections.PathCollection at 0x7f3bbcb76f10>"
            ]
          },
          "metadata": {},
          "execution_count": 6
        },
        {
          "output_type": "display_data",
          "data": {
            "text/plain": [
              "<Figure size 432x288 with 1 Axes>"
            ],
            "image/png": "[encoded data removed]"
          },
          "metadata": {
            "needs_background": "light"
          }
        }
      ]
    },
    {
      "cell_type": "code",
      "source": [
        ""
      ],
      "metadata": {
        "id": "JQXU4uSsNDV1"
      },
      "execution_count": null,
      "outputs": []
    }
  ]
}