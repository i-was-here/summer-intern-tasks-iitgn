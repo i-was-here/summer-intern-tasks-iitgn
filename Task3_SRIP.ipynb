{
  "nbformat": 4,
  "nbformat_minor": 0,
  "metadata": {
    "colab": {
      "name": "Task3_SRIP.ipynb",
      "provenance": [],
      "collapsed_sections": [],
      "authorship_tag": "ABX9TyOC3ViD5SXQpyt22k4InHM7",
      "include_colab_link": true
    },
    "kernelspec": {
      "name": "python3",
      "display_name": "Python 3"
    },
    "language_info": {
      "name": "python"
    }
  },
  "cells": [
    {
      "cell_type": "markdown",
      "metadata": {
        "id": "view-in-github",
        "colab_type": "text"
      },
      "source": [
        "<a href=\"https://colab.research.google.com/github/i-was-here/summer-intern-tasks-iitgn/blob/main/Task3_SRIP.ipynb\" target=\"_parent\"><img src=\"https://colab.research.google.com/assets/colab-badge.svg\" alt=\"Open In Colab\"/></a>"
      ]
    },
    {
      "cell_type": "markdown",
      "source": [
        "Libraries :-"
      ],
      "metadata": {
        "id": "vaLjYgFIW4RK"
      }
    },
    {
      "cell_type": "code",
      "execution_count": 162,
      "metadata": {
        "id": "lSQDm7xyCR1i"
      },
      "outputs": [],
      "source": [
        "import numpy as np\n",
        "import jax\n",
        "import jax.numpy as jnp\n",
        "from jax import jit, vmap, pmap, grad\n",
        "from jax import random\n",
        "from torchvision.datasets import MNIST\n",
        "from torch.utils.data import DataLoader\n",
        "from jax import value_and_grad\n",
        "import matplotlib.pyplot as plt"
      ]
    },
    {
      "cell_type": "code",
      "source": [
        "# No. of neurons in each of the two hidden layers\n",
        "\n",
        "hidden_l1 = 512\n",
        "hidden_l2 = 256"
      ],
      "metadata": {
        "id": "vCiEq72LtRRp"
      },
      "execution_count": 163,
      "outputs": []
    },
    {
      "cell_type": "markdown",
      "source": [
        "Model Definition :-"
      ],
      "metadata": {
        "id": "MWk95apXW7Kn"
      }
    },
    {
      "cell_type": "code",
      "source": [
        "# Definition of Model-Layers\n",
        "\n",
        "def model_layers(layers, ini_key):\n",
        "  more_keys = random.split(ini_key, num=len(layers)-1)\n",
        "  parameters = []\n",
        "  factor = 0.01\n",
        "  for incoming_neurons, outgoing_neurons, each_key in zip(layers[:-1], layers[1:], more_keys):\n",
        "    each_key1, each_key2 = random.split(each_key)\n",
        "    parameters.append([jax.random.normal(each_key1, shape=(outgoing_neurons, incoming_neurons))*factor, jax.random.normal(each_key2, shape=(outgoing_neurons,))*factor])\n",
        "  return parameters"
      ],
      "metadata": {
        "id": "gOCejBD-ruif"
      },
      "execution_count": 164,
      "outputs": []
    },
    {
      "cell_type": "code",
      "source": [
        "# Sample model :-\n",
        "\n",
        "key = jax.random.PRNGKey(0)\n",
        "model_pars = model_layers([784, hidden_l1, hidden_l2, 10], key)\n",
        "print(jax.tree_map(lambda x: x.shape, model_pars))"
      ],
      "metadata": {
        "colab": {
          "base_uri": "https://localhost:8080/"
        },
        "id": "Ms1c7X0kvbNK",
        "outputId": "a06d0c26-2a80-4928-9491-1a392102ffee"
      },
      "execution_count": 165,
      "outputs": [
        {
          "output_type": "stream",
          "name": "stdout",
          "text": [
            "[[(512, 784), (512,)], [(256, 512), (256,)], [(10, 256), (10,)]]\n"
          ]
        }
      ]
    },
    {
      "cell_type": "code",
      "source": [
        "# Definition of Predict function for SINGLE Image\n",
        "\n",
        "def predict(parameters, x):\n",
        "\n",
        "  hidden_layers = parameters[:-1]\n",
        "  activation = x\n",
        "\n",
        "  for w, b in hidden_layers:\n",
        "    activation = jax.nn.relu(jnp.dot(w, activation) + b)\n",
        "\n",
        "  # we predict the probability of image to be in each class using log-softmax loss function\n",
        "  w_last, b_last = parameters[-1]\n",
        "  log_e_sum = jax.scipy.special.logsumexp(jnp.dot(w_last, activation) + b_last)\n",
        "  \n",
        "  return jnp.dot(w_last, activation) + b_last - log_e_sum"
      ],
      "metadata": {
        "id": "exi883bqwBmM"
      },
      "execution_count": 166,
      "outputs": []
    },
    {
      "cell_type": "code",
      "source": [
        "# Predict function of Batch of images using \"vmap\" function\n",
        "\n",
        "batched_predict = vmap(predict, in_axes=(None, 0))"
      ],
      "metadata": {
        "id": "YDrRk1J12_NS"
      },
      "execution_count": 167,
      "outputs": []
    },
    {
      "cell_type": "markdown",
      "source": [
        "Input Dataset(MNIST) :-"
      ],
      "metadata": {
        "id": "uqaE2y9X32EO"
      }
    },
    {
      "cell_type": "code",
      "source": [
        "# Some relevant functions needed for dataset input :-\n",
        "\n",
        "def torch_transform(inp):\n",
        "  \"\"\"Transform function for input images\"\"\"\n",
        "  return np.ravel(np.array(inp, dtype=np.float32))\n",
        "\n",
        "def our_collate(batch):\n",
        "  \"\"\"Collate function to combine data together in required format\"\"\"\n",
        "  zipped_data = list(zip(*batch))\n",
        "  images = np.array(zipped_data[0])\n",
        "  labels = np.array(zipped_data[1])\n",
        "  return images, labels"
      ],
      "metadata": {
        "id": "2Crq77s_5HXA"
      },
      "execution_count": 168,
      "outputs": []
    },
    {
      "cell_type": "code",
      "source": [
        "# Data download and loading\n",
        "\n",
        "train_data = MNIST(\"train_data\", True, torch_transform, download=True)\n",
        "test_data = MNIST(\"test_data\", False, torch_transform, download=True)\n",
        "\n",
        "loaded_data_train = DataLoader(train_data, batch_size=128, shuffle = True, collate_fn=our_collate, drop_last=True)\n",
        "loaded_data_test = DataLoader(test_data, batch_size=128, shuffle = True, collate_fn=our_collate, drop_last=True)"
      ],
      "metadata": {
        "id": "G58FE01g3tiN"
      },
      "execution_count": 169,
      "outputs": []
    },
    {
      "cell_type": "markdown",
      "source": [
        "Training of Model"
      ],
      "metadata": {
        "id": "35Zn4Nva9Arl"
      }
    },
    {
      "cell_type": "code",
      "source": [
        "# Important functions used while training the model :-\n",
        "\n",
        "def loss(params, imgs, lbls):\n",
        "  \"\"\"LOG-SOFTMAX\"\"\"\n",
        "  # Labels are to be one hot encoded before sending here\n",
        "  predictions = batched_predict(params, imgs)\n",
        "  return -jnp.mean(predictions*lbls)\n",
        "\n",
        "def update(params, imgs, lbls):\n",
        "  \"\"\"Updating of parameters using Gradient Descent using 'PyTree' Concept\"\"\"\n",
        "  # Labels are to be one hot encoded before sending here\n",
        "  losses, grads = value_and_grad(loss)(params, imgs, lbls)\n",
        "  return losses, jax.tree_multimap(lambda p, g: p-0.001*g, params, grads)\n",
        "\n",
        "def accuracy(pars, loader):\n",
        "  \"\"\"Percentage of correct prediction out of total number of images\"\"\"\n",
        "  acc_val = 0\n",
        "  for img, lbl in loader:\n",
        "    predictions = jnp.argmax(batched_predict(pars, img), axis = 1)\n",
        "    acc_val += np.sum(predictions == lbl)\n",
        "  return acc_val/(len(loader)*loader.batch_size)"
      ],
      "metadata": {
        "id": "KpnHW-zMRdwa"
      },
      "execution_count": 170,
      "outputs": []
    },
    {
      "cell_type": "code",
      "source": [
        "# Model Training :-\n",
        "\n",
        "key = jax.random.PRNGKey(0)\n",
        "\n",
        "hidden_l1 = 512\n",
        "hidden_l2 = 256\n",
        "\n",
        "model_pars = model_layers([784, hidden_l1, hidden_l2, 10], key)\n",
        "\n",
        "no_epochs = 10\n",
        "\n",
        "losses_per_batch = []\n",
        "Xaxis = []\n",
        "index_batch = 1\n",
        "\n",
        "for epoch in range(no_epochs):\n",
        "  ind = 0\n",
        "  for images, labels in loaded_data_train:\n",
        "    one_hot_encoded_labels = jax.nn.one_hot(labels, len(MNIST.classes))\n",
        "    losses, model_pars = update(model_pars, images, one_hot_encoded_labels)\n",
        "    if ind%200 == 0:\n",
        "      print(\"Loss after every 200 images : \"+str(losses))\n",
        "      losses_per_batch.append(losses)\n",
        "      Xaxis.append(index_batch)\n",
        "      index_batch += 1\n",
        "    ind += 1\n",
        "  print(f'After epochs {epoch}, test_acc = {accuracy(model_pars, loaded_data_test)}, train_acc = {accuracy(model_pars, loaded_data_train)}')"
      ],
      "metadata": {
        "colab": {
          "base_uri": "https://localhost:8080/"
        },
        "id": "0TK5Hpio75w9",
        "outputId": "4a147fb6-a8c5-4071-c58e-e6f8ad458bb6"
      },
      "execution_count": 171,
      "outputs": [
        {
          "output_type": "stream",
          "name": "stdout",
          "text": [
            "Loss after every 200 images : 0.2410496\n",
            "Loss after every 200 images : 0.16515613\n",
            "Loss after every 200 images : 0.10421449\n",
            "After epochs 0, test_acc = 0.8137019276618958, train_acc = 0.8026843070983887\n",
            "Loss after every 200 images : 0.106612824\n",
            "Loss after every 200 images : 0.08037942\n",
            "Loss after every 200 images : 0.06668167\n",
            "After epochs 1, test_acc = 0.8636819124221802, train_acc = 0.8535490036010742\n",
            "Loss after every 200 images : 0.05265942\n",
            "Loss after every 200 images : 0.05220306\n",
            "Loss after every 200 images : 0.039586045\n",
            "After epochs 2, test_acc = 0.8848156929016113, train_acc = 0.8742654919624329\n",
            "Loss after every 200 images : 0.044206627\n",
            "Loss after every 200 images : 0.03868633\n",
            "Loss after every 200 images : 0.0324692\n",
            "After epochs 3, test_acc = 0.8956330418586731, train_acc = 0.8872696161270142\n",
            "Loss after every 200 images : 0.050922967\n",
            "Loss after every 200 images : 0.037214216\n",
            "Loss after every 200 images : 0.032906722\n",
            "After epochs 4, test_acc = 0.9018429517745972, train_acc = 0.8950821161270142\n",
            "Loss after every 200 images : 0.03762111\n",
            "Loss after every 200 images : 0.031184603\n",
            "Loss after every 200 images : 0.043792102\n",
            "After epochs 5, test_acc = 0.9061498641967773, train_acc = 0.9015758633613586\n",
            "Loss after every 200 images : 0.035718407\n",
            "Loss after every 200 images : 0.028198669\n",
            "Loss after every 200 images : 0.023925364\n",
            "After epochs 6, test_acc = 0.9108573794364929, train_acc = 0.9075687527656555\n",
            "Loss after every 200 images : 0.033430763\n",
            "Loss after every 200 images : 0.03008908\n",
            "Loss after every 200 images : 0.026016308\n",
            "After epochs 7, test_acc = 0.9160656929016113, train_acc = 0.9116085767745972\n",
            "Loss after every 200 images : 0.024435246\n",
            "Loss after every 200 images : 0.026506742\n",
            "Loss after every 200 images : 0.041217856\n",
            "After epochs 8, test_acc = 0.9181690812110901, train_acc = 0.9148971438407898\n",
            "Loss after every 200 images : 0.029947773\n",
            "Loss after every 200 images : 0.024973726\n",
            "Loss after every 200 images : 0.038768876\n",
            "After epochs 9, test_acc = 0.9206730723381042, train_acc = 0.9173343777656555\n"
          ]
        }
      ]
    },
    {
      "cell_type": "markdown",
      "source": [
        "Plot of Loss vs. Iterations :-"
      ],
      "metadata": {
        "id": "IuEpKjSRnAV-"
      }
    },
    {
      "cell_type": "code",
      "source": [
        "plt.plot(Xaxis, losses_per_batch)\n",
        "plt.xlabel(\"Iterations\")\n",
        "plt.ylabel(\"Loss\")\n",
        "plt.title(\"Loss vs. Iterations\")\n",
        "plt.show()"
      ],
      "metadata": {
        "colab": {
          "base_uri": "https://localhost:8080/",
          "height": 295
        },
        "id": "pC21SN_RbVAE",
        "outputId": "88d86d78-5656-4f2a-c9c2-bebabfaf8dd3"
      },
      "execution_count": 174,
      "outputs": [
        {
          "output_type": "display_data",
          "data": {
            "text/plain": [
              "<Figure size 432x288 with 1 Axes>"
            ],
            "image/png": "[encoded data removed]"
          },
          "metadata": {
            "needs_background": "light"
          }
        }
      ]
    }
  ]
}